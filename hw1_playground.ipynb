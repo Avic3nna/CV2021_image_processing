{
 "cells": [
  {
   "cell_type": "code",
   "execution_count": 13,
   "source": [
    "import cv2\r\n",
    "\r\n",
    "### Load image\r\n",
    "\r\n",
    "image = cv2.imread('G:/My Drive/1. EIT Digital master/Estland/Semester 1/Computer vision/its8030-2021-hw1/images/cactus.jpg')\r\n",
    "cv2.imshow('window1', image)\r\n",
    "\r\n",
    "in_place = False\r\n",
    "# if in_place is True, then the output image should be a copy of the input image. The default is False,\r\n",
    "# i.e. the operations are performed on the input image.\r\n",
    "if(in_place): #does this work ??????? Is this what they mean\r\n",
    "    image_ = image.copy()\r\n",
    "\r\n",
    "else:\r\n",
    "    image_ = image\r\n",
    "\r\n",
    "# Original doesn't change either way, so what's the problem?\r\n",
    "\r\n",
    "print(image_[1][1])\r\n",
    "image_[1:100][1:100] = [0,0,0]\r\n",
    "print(image_[1][1])\r\n",
    "cv2.imshow('window2', image_)\r\n",
    "cv2.waitKey(0)"
   ],
   "outputs": [
    {
     "output_type": "stream",
     "name": "stdout",
     "text": [
      "[185 209 209]\n",
      "[185 209 209]\n"
     ]
    },
    {
     "output_type": "execute_result",
     "data": {
      "text/plain": [
       "-1"
      ]
     },
     "metadata": {},
     "execution_count": 13
    }
   ],
   "metadata": {}
  }
 ],
 "metadata": {
  "orig_nbformat": 4,
  "language_info": {
   "name": "python",
   "version": "3.9.7",
   "mimetype": "text/x-python",
   "codemirror_mode": {
    "name": "ipython",
    "version": 3
   },
   "pygments_lexer": "ipython3",
   "nbconvert_exporter": "python",
   "file_extension": ".py"
  },
  "kernelspec": {
   "name": "python3",
   "display_name": "Python 3.9.7 64-bit"
  },
  "interpreter": {
   "hash": "d2f780d3fa0f233da220727534c26375caac5692cb408a3c2164f85e81e52cd5"
  }
 },
 "nbformat": 4,
 "nbformat_minor": 2
}